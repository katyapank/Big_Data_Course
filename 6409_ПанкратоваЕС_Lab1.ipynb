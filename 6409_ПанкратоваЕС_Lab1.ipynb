{
  "nbformat": 4,
  "nbformat_minor": 0,
  "metadata": {
    "colab": {
      "provenance": []
    },
    "kernelspec": {
      "name": "python3",
      "display_name": "Python 3"
    },
    "language_info": {
      "name": "python"
    }
  },
  "cells": [
    {
      "cell_type": "code",
      "source": [
        "!apt-get install openjdk-8-jdk-headless -qq > /dev/null\n",
        "!wget -q http://archive.apache.org/dist/spark/spark-3.1.1/spark-3.1.1-bin-hadoop3.2.tgz\n",
        "!tar xf spark-3.1.1-bin-hadoop3.2.tgz"
      ],
      "metadata": {
        "id": "gVGHkqT6Um91"
      },
      "execution_count": 10,
      "outputs": []
    },
    {
      "cell_type": "code",
      "source": [
        "import os\n",
        "os.environ[\"JAVA_HOME\"] = \"/usr/lib/jvm/java-8-openjdk-amd64\"\n",
        "os.environ[\"SPARK_HOME\"] = \"/content/spark-3.1.1-bin-hadoop3.2\""
      ],
      "metadata": {
        "id": "hk8dSwZFVMKS"
      },
      "execution_count": 35,
      "outputs": []
    },
    {
      "cell_type": "code",
      "source": [
        "!pip install findspark\n",
        "import findspark\n",
        "findspark.init()"
      ],
      "metadata": {
        "colab": {
          "base_uri": "https://localhost:8080/"
        },
        "id": "7M4a4wKCVuW8",
        "outputId": "617accea-3053-4fdb-fe9d-bb0228cf79f4"
      },
      "execution_count": 36,
      "outputs": [
        {
          "output_type": "stream",
          "name": "stdout",
          "text": [
            "Requirement already satisfied: findspark in /usr/local/lib/python3.10/dist-packages (2.0.1)\n"
          ]
        }
      ]
    },
    {
      "cell_type": "markdown",
      "source": [
        "# Инициализация сессии"
      ],
      "metadata": {
        "id": "PmUwYnCHUxh3"
      }
    },
    {
      "cell_type": "code",
      "execution_count": 37,
      "metadata": {
        "id": "rYCR_a6PUUL0"
      },
      "outputs": [],
      "source": [
        "from pyspark import SparkContext, SparkConf\n",
        "import pyspark.sql as sql\n",
        "from pyspark.sql import SparkSession\n",
        "from pyspark.sql.types import DoubleType\n",
        "from pyspark.sql.functions import udf, col, max, sum, countDistinct"
      ]
    },
    {
      "cell_type": "code",
      "source": [
        "spark = SparkSession \\\n",
        "    .builder \\\n",
        "    .appName(\"L1_interactive_bike_analysis\") \\\n",
        "    .getOrCreate()"
      ],
      "metadata": {
        "id": "rj9SrSs8WVuk"
      },
      "execution_count": 38,
      "outputs": []
    },
    {
      "cell_type": "code",
      "source": [
        "spark.version"
      ],
      "metadata": {
        "colab": {
          "base_uri": "https://localhost:8080/",
          "height": 36
        },
        "id": "Fb6lqc3OUrpw",
        "outputId": "c8b0cc68-fb39-4fd0-92f2-13502d08cb1e"
      },
      "execution_count": 39,
      "outputs": [
        {
          "output_type": "execute_result",
          "data": {
            "text/plain": [
              "'3.1.1'"
            ],
            "application/vnd.google.colaboratory.intrinsic+json": {
              "type": "string"
            }
          },
          "metadata": {},
          "execution_count": 39
        }
      ]
    },
    {
      "cell_type": "markdown",
      "source": [
        "# Загрузка данных"
      ],
      "metadata": {
        "id": "otSzaWwIZRbC"
      }
    },
    {
      "cell_type": "code",
      "source": [
        "import os\n",
        "data_path = os.path.join(os.curdir, \"data\")\n",
        "trips_path = os.path.join(\"trips.csv\")\n",
        "stations_path = os.path.join(\"stations.csv\")"
      ],
      "metadata": {
        "id": "HewVAOOGX0cv"
      },
      "execution_count": 47,
      "outputs": []
    },
    {
      "cell_type": "code",
      "source": [
        "trip_data = spark.read\\\n",
        ".option(\"header\", True)\\\n",
        ".option(\"inferSchema\", True)\\\n",
        ".option(\"timestampFormat\", 'M/d/y H:m')\\\n",
        ".csv(trips_path)\n",
        "\n",
        "print(\"Trips\")\n",
        "trip_data.printSchema()\n",
        "\n",
        "stations_data = spark.read\\\n",
        ".option(\"header\", True)\\\n",
        ".option(\"inferSchema\", True)\\\n",
        ".option(\"timestampFormat\", 'M/d/y H:m')\\\n",
        ".csv(stations_path)\n",
        "\n",
        "print(\"Stations\")\n",
        "stations_data.printSchema()"
      ],
      "metadata": {
        "colab": {
          "base_uri": "https://localhost:8080/"
        },
        "id": "lqsSRs5BZF-E",
        "outputId": "dacc6ded-5ad9-494e-e3f6-a8e35578f7fc"
      },
      "execution_count": 41,
      "outputs": [
        {
          "output_type": "stream",
          "name": "stdout",
          "text": [
            "Trips\n",
            "root\n",
            " |-- id: integer (nullable = true)\n",
            " |-- duration: integer (nullable = true)\n",
            " |-- start_date: timestamp (nullable = true)\n",
            " |-- start_station_name: string (nullable = true)\n",
            " |-- start_station_id: integer (nullable = true)\n",
            " |-- end_date: timestamp (nullable = true)\n",
            " |-- end_station_name: string (nullable = true)\n",
            " |-- end_station_id: integer (nullable = true)\n",
            " |-- bike_id: integer (nullable = true)\n",
            " |-- subscription_type: string (nullable = true)\n",
            " |-- zip_code: string (nullable = true)\n",
            "\n",
            "Stations\n",
            "root\n",
            " |-- id: integer (nullable = true)\n",
            " |-- name: string (nullable = true)\n",
            " |-- lat: double (nullable = true)\n",
            " |-- long: double (nullable = true)\n",
            " |-- dock_count: integer (nullable = true)\n",
            " |-- city: string (nullable = true)\n",
            " |-- installation_date: string (nullable = true)\n",
            "\n"
          ]
        }
      ]
    },
    {
      "cell_type": "markdown",
      "source": [
        "# Решите следующие задачи для данных велопарковок Сан-Франциско (trips.csv, stations.csv):\n",
        "1. Найти велосипед с максимальным временем пробега.\n",
        "2. Найти наибольшее геодезическое расстояние между станциями.\n",
        "3. Найти путь велосипеда с максимальным временем пробега через станции.\n",
        "4. Найти количество велосипедов в системе.\n",
        "5. Найти пользователей потративших на поездки более 3 часов."
      ],
      "metadata": {
        "id": "jyk4TfBwfEpi"
      }
    },
    {
      "cell_type": "markdown",
      "source": [
        "# 1 задание"
      ],
      "metadata": {
        "id": "gKOuSUP6ZaS5"
      }
    },
    {
      "cell_type": "markdown",
      "source": [
        "Найти велосипед с максимальным временем пробега"
      ],
      "metadata": {
        "id": "U-UY5hmKb-dg"
      }
    },
    {
      "cell_type": "code",
      "source": [
        "# Группировка по id велосипеда и применение функции sum для подсчета времени пробега каждого велосипеда\n",
        "max_trips_duration_per_bike = trip_data.groupBy(\"bike_id\").agg(sum(col(\"duration\")).alias(\"total_trips_duration\"))\n",
        "\n",
        "# Выбор велосипеда с максимальным пробегом\n",
        "bike_with_max_trips_duration = max_trips_duration_per_bike.orderBy(col(\"total_trips_duration\").desc()).first()\n",
        "\n",
        "bike_id_with_max_duration = bike_with_max_trips_duration[\"bike_id\"]\n",
        "total_duration = bike_with_max_trips_duration[\"total_trips_duration\"]\n",
        "\n",
        "print(f\"Велосипед #{bike_id_with_max_duration} с суммарным временем пробега  = {total_duration}\")"
      ],
      "metadata": {
        "colab": {
          "base_uri": "https://localhost:8080/"
        },
        "id": "cOuBKrz6Zdcm",
        "outputId": "25afb6b3-3b5a-442c-83fe-f636f197c35e"
      },
      "execution_count": 45,
      "outputs": [
        {
          "output_type": "stream",
          "name": "stdout",
          "text": [
            "Велосипед #535 с суммарным временем пробега  = 18611693\n"
          ]
        }
      ]
    },
    {
      "cell_type": "markdown",
      "source": [
        "# 2 задание"
      ],
      "metadata": {
        "id": "a28K2hLPZgOY"
      }
    },
    {
      "cell_type": "markdown",
      "source": [
        "Найти наибольшее геодезическое расстояние между станциями"
      ],
      "metadata": {
        "id": "iA_Bhllhb_vn"
      }
    },
    {
      "cell_type": "code",
      "source": [
        "from math import sin, cos, sqrt, atan2, radians\n",
        "\n",
        "def geodesic_distance(lat1, lon1, lat2, lon2):\n",
        "    # Радиус Земли в километрах\n",
        "    R = 6373.0\n",
        "    lat1 = radians(lat1)\n",
        "    lat2 = radians(lat2)\n",
        "    lon1 = radians(lon1)\n",
        "    lon2 = radians(lon2)\n",
        "\n",
        "    dlon = lon2 - lon1\n",
        "    dlat = lat2 - lat1\n",
        "\n",
        "    # Вычисление геодезического расстояния по формуле Хаверсина\n",
        "    a = sin(dlat / 2)**2 + cos(lat1) * cos(lat2) * sin(dlon / 2)**2\n",
        "    c = 2 * atan2(sqrt(a), sqrt(1 - a))\n",
        "    distance = R * c\n",
        "    return distance\n",
        "\n",
        "# Конвертация функции в pyspark.sql.functions.udf (user-defined function)\n",
        "geodesic_distance_udf = udf(geodesic_distance, DoubleType())\n",
        "\n",
        "# Объединение датасета станций с самим собой для получения всех возможных пар\n",
        "station_pairs = stations_data.alias(\"station1\").crossJoin(stations_data.alias(\"station2\"))\n",
        "\n",
        "# Вычисление расстояния для каждой пары станций с помощью объявленной ранее функции\n",
        "station_pairs_with_distance = station_pairs.withColumn(\n",
        "    \"geodesic_distance\",\n",
        "    geodesic_distance_udf(\n",
        "        col(\"station1.lat\"),\n",
        "        col(\"station1.long\"),\n",
        "        col(\"station2.lat\"),\n",
        "        col(\"station2.long\")\n",
        "    )\n",
        ")\n",
        "\n",
        "# Поиск максимального геодезического расстояния среди всех расстояний для каждой пары станций\n",
        "max_distance = station_pairs_with_distance.selectExpr(\"max(geodesic_distance) as max_distance\").collect()[0][\"max_distance\"]\n",
        "\n",
        "print(f\"Максимальное геодезическое расстояние между станциями равно {max_distance} километрам\")"
      ],
      "metadata": {
        "colab": {
          "base_uri": "https://localhost:8080/"
        },
        "id": "te_HqxoOZilc",
        "outputId": "f0b923cd-adcc-4c6e-9be1-74d80cbb8894"
      },
      "execution_count": 48,
      "outputs": [
        {
          "output_type": "stream",
          "name": "stdout",
          "text": [
            "Максимальное геодезическое расстояние между станциями равно 69.9428256877473 километрам\n"
          ]
        }
      ]
    },
    {
      "cell_type": "markdown",
      "source": [
        "# 3 задание"
      ],
      "metadata": {
        "id": "tchaJ5APZjUO"
      }
    },
    {
      "cell_type": "markdown",
      "source": [
        "Найти путь велосипеда с максимальным временем пробега через станции"
      ],
      "metadata": {
        "id": "LPSOWGmYcBwx"
      }
    },
    {
      "cell_type": "code",
      "source": [
        "# Сортировка по столбцу duration и выбор наиболее длительной поездки\n",
        "trip_with_max_duration = trip_data.select(\"start_station_name\", \"end_station_name\", \"duration\").orderBy(col(\"duration\").desc()).first()\n",
        "\n",
        "# Получение стартовой и конечной станций, а также времени поездки\n",
        "start_location = trip_with_max_duration[\"start_station_name\"]\n",
        "end_location = trip_with_max_duration[\"end_station_name\"]\n",
        "trip_time = trip_with_max_duration[\"duration\"]\n",
        "\n",
        "print(f\"Самая длинная поездка ({trip_time} секунд)  from \\\"{start_location}\\\" to \\\"{end_location}\\\"\")"
      ],
      "metadata": {
        "colab": {
          "base_uri": "https://localhost:8080/"
        },
        "id": "8y3HP92wZnpG",
        "outputId": "fb351cf5-565e-49d3-a5a7-ce7e823452d9"
      },
      "execution_count": 27,
      "outputs": [
        {
          "output_type": "stream",
          "name": "stdout",
          "text": [
            "Самая длинная поездка (17270400 секунд)  from \"South Van Ness at Market\" to \"2nd at Folsom\"\n"
          ]
        }
      ]
    },
    {
      "cell_type": "markdown",
      "source": [
        "# 4 задание"
      ],
      "metadata": {
        "id": "ygyPW9VjZph6"
      }
    },
    {
      "cell_type": "markdown",
      "source": [
        "Найти количество велосипедов в системе"
      ],
      "metadata": {
        "id": "7Rmfsa3zcDkx"
      }
    },
    {
      "cell_type": "code",
      "source": [
        "# Группировка по id велосипеда и подсчет уникальных значений id\n",
        "unique_bikes_count = trip_data.agg(countDistinct(\"bike_id\").alias(\"bike_count\")).collect()[0][\"bike_count\"]\n",
        "\n",
        "print(f\"Суммарное количество велосипедов: {unique_bikes_count}\")"
      ],
      "metadata": {
        "colab": {
          "base_uri": "https://localhost:8080/"
        },
        "id": "CjA9sJ9HZqra",
        "outputId": "dcc8ab74-33e1-4b3e-ae14-da9188405c34"
      },
      "execution_count": 46,
      "outputs": [
        {
          "output_type": "stream",
          "name": "stdout",
          "text": [
            "Суммарное количество велосипедов: 700\n"
          ]
        }
      ]
    },
    {
      "cell_type": "markdown",
      "source": [
        "# 5 задание"
      ],
      "metadata": {
        "id": "rayWPV35Zsh6"
      }
    },
    {
      "cell_type": "markdown",
      "source": [
        "Найти пользователей потративших на поездки более 3 часов"
      ],
      "metadata": {
        "id": "Hdm1-biccJ1a"
      }
    },
    {
      "cell_type": "code",
      "source": [
        "# Группировка по id велосипеда и подсчет общего времени, проведенного в поездке\n",
        "users_with_total_trip_time = trip_data.groupBy(\"bike_id\").sum(\"duration\").withColumnRenamed(\"sum(duration)\", \"total_time\")\n",
        "users_with_total_trip_time.filter(\"total_time>10800\").show()"
      ],
      "metadata": {
        "colab": {
          "base_uri": "https://localhost:8080/"
        },
        "id": "I5fYevzpZyqb",
        "outputId": "aa37b921-d477-4bfb-ef40-15a97fe27a67"
      },
      "execution_count": 29,
      "outputs": [
        {
          "output_type": "stream",
          "name": "stdout",
          "text": [
            "+-------+----------+\n",
            "|bike_id|total_time|\n",
            "+-------+----------+\n",
            "|    471|   1718831|\n",
            "|    496|   1679568|\n",
            "|    148|    332138|\n",
            "|    463|   1722796|\n",
            "|    540|   1752835|\n",
            "|    392|   1789476|\n",
            "|    623|   2037219|\n",
            "|    243|    307458|\n",
            "|    516|   1896751|\n",
            "|     31|    407907|\n",
            "|    580|   1034382|\n",
            "|    137|   1529200|\n",
            "|    251|   1282980|\n",
            "|    451|   1695574|\n",
            "|     85|   1214769|\n",
            "|    458|   1647080|\n",
            "|     65|    216922|\n",
            "|    588|    266415|\n",
            "|    255|    396395|\n",
            "|     53|    226389|\n",
            "+-------+----------+\n",
            "only showing top 20 rows\n",
            "\n"
          ]
        }
      ]
    }
  ]
}
