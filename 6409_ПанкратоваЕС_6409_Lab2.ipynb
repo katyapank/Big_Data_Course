{
  "nbformat": 4,
  "nbformat_minor": 0,
  "metadata": {
    "colab": {
      "provenance": []
    },
    "kernelspec": {
      "name": "python3",
      "display_name": "Python 3"
    },
    "language_info": {
      "name": "python"
    }
  },
  "cells": [
    {
      "cell_type": "code",
      "source": [
        "!apt-get install openjdk-8-jdk-headless -qq > /dev/null\n",
        "!wget -q http://archive.apache.org/dist/spark/spark-3.1.1/spark-3.1.1-bin-hadoop3.2.tgz\n",
        "!tar xf spark-3.1.1-bin-hadoop3.2.tgz"
      ],
      "metadata": {
        "id": "gVGHkqT6Um91"
      },
      "execution_count": 20,
      "outputs": []
    },
    {
      "cell_type": "code",
      "source": [
        "import os\n",
        "os.environ[\"JAVA_HOME\"] = \"/usr/lib/jvm/java-8-openjdk-amd64\"\n",
        "os.environ[\"SPARK_HOME\"] = \"/content/spark-3.1.1-bin-hadoop3.2\""
      ],
      "metadata": {
        "id": "hk8dSwZFVMKS"
      },
      "execution_count": 21,
      "outputs": []
    },
    {
      "cell_type": "code",
      "source": [
        "!pip install findspark\n",
        "import findspark\n",
        "findspark.init()"
      ],
      "metadata": {
        "colab": {
          "base_uri": "https://localhost:8080/"
        },
        "id": "7M4a4wKCVuW8",
        "outputId": "63d2a16a-d5f4-4091-9f7d-ce7107421fa4"
      },
      "execution_count": 22,
      "outputs": [
        {
          "output_type": "stream",
          "name": "stdout",
          "text": [
            "Requirement already satisfied: findspark in /usr/local/lib/python3.10/dist-packages (2.0.1)\n"
          ]
        }
      ]
    },
    {
      "cell_type": "code",
      "execution_count": 23,
      "metadata": {
        "id": "rYCR_a6PUUL0"
      },
      "outputs": [],
      "source": [
        "import re\n",
        "from typing import List\n",
        "import pyspark.sql as sql\n",
        "from pyspark import SparkContext, SparkConf\n",
        "from pyspark.sql import SparkSession\n",
        "from pyspark.sql.window import Window\n",
        "from pyspark.sql.types import DoubleType, IntegerType, ArrayType, StringType\n",
        "from pyspark.sql.functions import udf, explode, rank\n",
        "from pyspark.sql.functions import col, max, sum, desc, countDistinct\n",
        "import os"
      ]
    },
    {
      "cell_type": "markdown",
      "source": [
        "# Инициализация сессии"
      ],
      "metadata": {
        "id": "p-fPDfXCqKEd"
      }
    },
    {
      "cell_type": "code",
      "source": [
        "spark = SparkSession \\\n",
        "    .builder \\\n",
        "    .appName(\"L2_reports_with_apache_spark\") \\\n",
        "    .config(\"spark.jars.packages\", \"com.databricks:spark-xml_2.12:0.13.0\")\\\n",
        "    .getOrCreate()"
      ],
      "metadata": {
        "id": "IGxpqFS4jgq_"
      },
      "execution_count": 24,
      "outputs": []
    },
    {
      "cell_type": "code",
      "source": [
        "spark.version"
      ],
      "metadata": {
        "colab": {
          "base_uri": "https://localhost:8080/",
          "height": 36
        },
        "id": "_HRe-nkOjild",
        "outputId": "f6376209-0ebc-4f65-e2ad-043741832a42"
      },
      "execution_count": 25,
      "outputs": [
        {
          "output_type": "execute_result",
          "data": {
            "text/plain": [
              "'3.1.1'"
            ],
            "application/vnd.google.colaboratory.intrinsic+json": {
              "type": "string"
            }
          },
          "metadata": {},
          "execution_count": 25
        }
      ]
    },
    {
      "cell_type": "markdown",
      "source": [
        "# Загрузка данных"
      ],
      "metadata": {
        "id": "mLv3u2Y4qgeu"
      }
    },
    {
      "cell_type": "code",
      "source": [
        "posts_path = '/content/posts_sample.xml'\n",
        "prog_lang_path = '/content/programming-languages.csv'"
      ],
      "metadata": {
        "id": "5E_JuVlujmCw"
      },
      "execution_count": 26,
      "outputs": []
    },
    {
      "cell_type": "code",
      "source": [
        "posts_data = spark.read.format('xml').options(rowTag='row').load(posts_path)\n",
        "print(\"Posts\")\n",
        "posts_data.printSchema()"
      ],
      "metadata": {
        "colab": {
          "base_uri": "https://localhost:8080/"
        },
        "id": "pcBcwLGtjxIb",
        "outputId": "1c98fba9-8f80-4be2-c5d0-f44ba4461517"
      },
      "execution_count": 27,
      "outputs": [
        {
          "output_type": "stream",
          "name": "stdout",
          "text": [
            "Posts\n",
            "root\n",
            " |-- _AcceptedAnswerId: long (nullable = true)\n",
            " |-- _AnswerCount: long (nullable = true)\n",
            " |-- _Body: string (nullable = true)\n",
            " |-- _ClosedDate: timestamp (nullable = true)\n",
            " |-- _CommentCount: long (nullable = true)\n",
            " |-- _CommunityOwnedDate: timestamp (nullable = true)\n",
            " |-- _CreationDate: timestamp (nullable = true)\n",
            " |-- _FavoriteCount: long (nullable = true)\n",
            " |-- _Id: long (nullable = true)\n",
            " |-- _LastActivityDate: timestamp (nullable = true)\n",
            " |-- _LastEditDate: timestamp (nullable = true)\n",
            " |-- _LastEditorDisplayName: string (nullable = true)\n",
            " |-- _LastEditorUserId: long (nullable = true)\n",
            " |-- _OwnerDisplayName: string (nullable = true)\n",
            " |-- _OwnerUserId: long (nullable = true)\n",
            " |-- _ParentId: long (nullable = true)\n",
            " |-- _PostTypeId: long (nullable = true)\n",
            " |-- _Score: long (nullable = true)\n",
            " |-- _Tags: string (nullable = true)\n",
            " |-- _Title: string (nullable = true)\n",
            " |-- _ViewCount: long (nullable = true)\n",
            "\n"
          ]
        }
      ]
    },
    {
      "cell_type": "code",
      "source": [
        "prog_lang_data = spark.read\\\n",
        ".option(\"header\", True)\\\n",
        ".option(\"inferSchema\", True)\\\n",
        ".option(\"timestampFormat\", 'M/d/y H:m')\\\n",
        ".csv(prog_lang_path)\n",
        "print(\"Programming languages\")\n",
        "prog_lang_data.printSchema()"
      ],
      "metadata": {
        "colab": {
          "base_uri": "https://localhost:8080/"
        },
        "id": "i8JFc5TCj2xQ",
        "outputId": "54324824-c694-4cd7-84a9-59b57d3f5fcb"
      },
      "execution_count": 28,
      "outputs": [
        {
          "output_type": "stream",
          "name": "stdout",
          "text": [
            "Programming languages\n",
            "root\n",
            " |-- name: string (nullable = true)\n",
            " |-- wikipedia_url: string (nullable = true)\n",
            "\n"
          ]
        }
      ]
    },
    {
      "cell_type": "markdown",
      "source": [
        "# Работа с данными"
      ],
      "metadata": {
        "id": "GPGvcZTyrUQB"
      }
    },
    {
      "cell_type": "code",
      "source": [
        "def get_tags(tags_string):\n",
        "    if tags_string is None:\n",
        "        return []\n",
        "    pattern = r'<(.+?)>'\n",
        "    tags = re.findall(pattern, tags_string)\n",
        "    return tags\n",
        "\n",
        "def get_year(date_and_time):\n",
        "    return date_and_time.year\n",
        "\n",
        "get_tags_udf = udf(get_tags, ArrayType(StringType()))\n",
        "get_year_udf = udf(get_year, IntegerType())\n",
        "posts_data_simplified = posts_data \\\n",
        "                        .withColumn(\"tags\", get_tags_udf(posts_data[\"_Tags\"])) \\\n",
        "                        .withColumn(\"year\", get_year_udf(posts_data[\"_LastActivityDate\"]))\n",
        "posts_data_simplified = posts_data_simplified.select(\n",
        "    col(\"tags\"),\n",
        "    col(\"year\"),\n",
        "    col(\"_ViewCount\").alias(\"views\")\n",
        ")\n",
        "first_rows = posts_data_simplified.head(10)\n",
        "for i, row in enumerate(first_rows):\n",
        "    print(i+1, row)"
      ],
      "metadata": {
        "colab": {
          "base_uri": "https://localhost:8080/"
        },
        "id": "LaR_gvWsj5Y5",
        "outputId": "45db97d9-c96c-4036-a797-c9f28e7daae5"
      },
      "execution_count": 35,
      "outputs": [
        {
          "output_type": "stream",
          "name": "stdout",
          "text": [
            "1 Row(tags=['c#', 'floating-point', 'type-conversion', 'double', 'decimal'], year=2019, views=42817)\n",
            "2 Row(tags=['html', 'css', 'internet-explorer-7'], year=2019, views=18214)\n",
            "3 Row(tags=[], year=2017, views=None)\n",
            "4 Row(tags=['c#', '.net', 'datetime'], year=2019, views=555183)\n",
            "5 Row(tags=['c#', 'datetime', 'time', 'datediff', 'relative-time-span'], year=2019, views=149445)\n",
            "6 Row(tags=[], year=2018, views=None)\n",
            "7 Row(tags=['html', 'browser', 'timezone', 'user-agent', 'timezone-offset'], year=2019, views=176405)\n",
            "8 Row(tags=['.net', 'math'], year=2018, views=123231)\n",
            "9 Row(tags=[], year=2010, views=None)\n",
            "10 Row(tags=[], year=2010, views=None)\n"
          ]
        }
      ]
    },
    {
      "cell_type": "code",
      "source": [
        "posts_data_sorted = posts_data_simplified.select(\"year\", explode(\"tags\").alias(\"tag\"), \"views\")\n",
        "\n",
        "# Группировка по году последней активности и тегам, суммирование всех просмотров для каждого языка программирования в пределах одного года\n",
        "posts_data_sorted = posts_data_sorted.groupBy(\"year\", \"tag\").agg(sum(\"views\").alias(\"total_views\"))\n",
        "\n",
        "posts_data_sorted = posts_data_sorted.orderBy(\"year\", desc(\"total_views\"))\n",
        "posts_data_sorted.show()"
      ],
      "metadata": {
        "colab": {
          "base_uri": "https://localhost:8080/"
        },
        "id": "kn2q3cpIkBhp",
        "outputId": "1c509ff6-9190-4093-ad9c-01d3f04a05f0"
      },
      "execution_count": 30,
      "outputs": [
        {
          "output_type": "stream",
          "name": "stdout",
          "text": [
            "+----+--------------------+-----------+\n",
            "|year|                 tag|total_views|\n",
            "+----+--------------------+-----------+\n",
            "|2008|                  c#|      25401|\n",
            "|2008|                .net|      24321|\n",
            "|2008|            database|      19682|\n",
            "|2008|               local|      19682|\n",
            "|2008|                java|      11532|\n",
            "|2008|         inheritance|      10971|\n",
            "|2008|       accessibility|       7700|\n",
            "|2008|           variables|       7700|\n",
            "|2008|          automation|       6540|\n",
            "|2008|               excel|       6540|\n",
            "|2008|           interface|       3271|\n",
            "|2008|       configuration|       2927|\n",
            "|2008|      castle-windsor|       2927|\n",
            "|2008|dependency-injection|       2927|\n",
            "|2008|               linux|       2393|\n",
            "|2008|                ruby|       1843|\n",
            "|2008|       ruby-on-rails|       1843|\n",
            "|2008|  visual-studio-2008|       1432|\n",
            "|2008|            .net-2.0|       1432|\n",
            "|2008|  visual-studio-2005|       1432|\n",
            "+----+--------------------+-----------+\n",
            "only showing top 20 rows\n",
            "\n"
          ]
        }
      ]
    },
    {
      "cell_type": "code",
      "source": [
        "#  Определяем спецификацию Window, разбитую по годам и упорядоченную в порядке убывания по показателю total_views\n",
        "window_spec = Window.partitionBy(\"year\").orderBy(posts_data_sorted[\"total_views\"].desc())\n",
        "\n",
        "# Добавляем колонку rank в DataFrame\n",
        "ranked_df = posts_data_sorted.withColumn(\"rank\", rank().over(window_spec))\n",
        "\n",
        "result_df = ranked_df.filter(ranked_df[\"rank\"] <= 5)\n",
        "result_df = result_df.select(\"year\", \"tag\", \"total_views\")\n",
        "\n",
        "posts_data_sorted_result = result_df.orderBy(\"year\", desc(\"total_views\"))\n",
        "posts_data_sorted_result.show()\n",
        "posts_data_sorted_result.write.parquet(\"posts_data_sorted_result.parquet\")"
      ],
      "metadata": {
        "colab": {
          "base_uri": "https://localhost:8080/"
        },
        "id": "6UWXyX9DkDjT",
        "outputId": "bebd256a-53d1-4aef-c0eb-5d9ebad44e03"
      },
      "execution_count": 34,
      "outputs": [
        {
          "output_type": "stream",
          "name": "stdout",
          "text": [
            "+----+--------------------+-----------+\n",
            "|year|                 tag|total_views|\n",
            "+----+--------------------+-----------+\n",
            "|2008|                  c#|      25401|\n",
            "|2008|                .net|      24321|\n",
            "|2008|            database|      19682|\n",
            "|2008|               local|      19682|\n",
            "|2008|                java|      11532|\n",
            "|2009|                  c#|      73661|\n",
            "|2009|                .net|      39167|\n",
            "|2009|              python|      32219|\n",
            "|2009|                 c++|      29381|\n",
            "|2009|            winforms|      25670|\n",
            "|2010|                  c#|     128597|\n",
            "|2010|              arrays|      80868|\n",
            "|2010|                java|      53333|\n",
            "|2010|              matlab|      51865|\n",
            "|2010|multidimensional-...|      51865|\n",
            "|2011|                  c#|     238076|\n",
            "|2011|                java|     121315|\n",
            "|2011|                .net|     120734|\n",
            "|2011|                 css|     119302|\n",
            "|2011|             android|     107283|\n",
            "+----+--------------------+-----------+\n",
            "only showing top 20 rows\n",
            "\n"
          ]
        }
      ]
    },
    {
      "cell_type": "code",
      "source": [
        "import shutil\n",
        "directory_path = \"posts_data_sorted_result.parquet\"\n",
        "# Удаляем директорию\n",
        "shutil.rmtree(directory_path)"
      ],
      "metadata": {
        "id": "gwPx7i8YrzcY"
      },
      "execution_count": 33,
      "outputs": []
    }
  ]
}